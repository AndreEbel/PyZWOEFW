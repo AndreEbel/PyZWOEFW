{
 "cells": [
  {
   "cell_type": "markdown",
   "id": "mineral-reform",
   "metadata": {},
   "source": [
    "# Controling ZWO electronic filter wheel with python"
   ]
  },
  {
   "cell_type": "markdown",
   "id": "coordinate-silicon",
   "metadata": {},
   "source": [
    "## Download the ZWOEFW drivers and SDK \n",
    "\n",
    "The latest version of SDK for the EFW can be found [here](https://astronomy-imaging-camera.com/software-drivers) in Developpers/SDK\n",
    "\n",
    "Move the dll in the current working directory. "
   ]
  },
  {
   "cell_type": "markdown",
   "id": "ruled-agriculture",
   "metadata": {},
   "source": [
    "## Install the PyZWOEFW package\n",
    "\n",
    "Download the package,  go to the package directory with anaconda prompt and run\n",
    "```\n",
    "pip install -e PyZWOEFW\n",
    "```"
   ]
  },
  {
   "cell_type": "markdown",
   "id": "behavioral-airport",
   "metadata": {
    "tags": []
   },
   "source": [
    "## Use the package\n",
    "\n",
    "If the dll file from the SDK has been moved to the correct folder, this command should work: "
   ]
  },
  {
   "cell_type": "code",
   "execution_count": 1,
   "id": "fbdb617f-f469-4285-9cd6-fc13b764d393",
   "metadata": {
    "ExecuteTime": {
     "end_time": "2022-03-29T09:28:03.212198Z",
     "start_time": "2022-03-29T09:28:03.153421Z"
    },
    "tags": []
   },
   "outputs": [],
   "source": [
    "from PyZWOEFW import EFW, SingleMiniEFW"
   ]
  },
  {
   "cell_type": "code",
   "execution_count": 2,
   "id": "3bff9f42-16ec-427a-a738-62d9f14da9e8",
   "metadata": {
    "ExecuteTime": {
     "end_time": "2022-03-29T09:26:12.329548Z",
     "start_time": "2022-03-29T09:26:11.824957Z"
    }
   },
   "outputs": [],
   "source": [
    "wheel = EFW('EFW_filter.dll')"
   ]
  },
  {
   "cell_type": "markdown",
   "id": "392c042e",
   "metadata": {},
   "source": [
    "if you connected the EFW, you should detect one EFW with _GetNum_"
   ]
  },
  {
   "cell_type": "code",
   "execution_count": 3,
   "id": "e76d15e2",
   "metadata": {
    "ExecuteTime": {
     "end_time": "2022-03-29T09:26:13.196243Z",
     "start_time": "2022-03-29T09:26:13.185243Z"
    }
   },
   "outputs": [
    {
     "name": "stdout",
     "output_type": "stream",
     "text": [
      "1\n"
     ]
    }
   ],
   "source": [
    "n = wheel.GetNum()\n",
    "print(n)"
   ]
  },
  {
   "cell_type": "code",
   "execution_count": 4,
   "id": "912da25c-c8eb-4a65-9d29-d3cc569d9937",
   "metadata": {
    "ExecuteTime": {
     "end_time": "2022-03-29T09:26:13.908095Z",
     "start_time": "2022-03-29T09:26:13.897126Z"
    }
   },
   "outputs": [
    {
     "data": {
      "text/plain": [
       "{'ID': 0, 'Name': '', 'slotNum': 5}"
      ]
     },
     "execution_count": 4,
     "metadata": {},
     "output_type": "execute_result"
    }
   ],
   "source": [
    "wheel.GetProperty(wheel.IDs[0])"
   ]
  },
  {
   "cell_type": "code",
   "execution_count": 5,
   "id": "c600b782",
   "metadata": {
    "ExecuteTime": {
     "end_time": "2022-03-29T09:26:40.170145Z",
     "start_time": "2022-03-29T09:26:14.713098Z"
    }
   },
   "outputs": [],
   "source": [
    "wheel.Calibrate(wheel.IDs[0])"
   ]
  },
  {
   "cell_type": "code",
   "execution_count": 6,
   "id": "bc4ef73a-1dec-4a4c-bb9a-0c16e44690af",
   "metadata": {
    "ExecuteTime": {
     "end_time": "2022-03-29T09:26:41.145268Z",
     "start_time": "2022-03-29T09:26:41.125270Z"
    }
   },
   "outputs": [
    {
     "data": {
      "text/plain": [
       "0"
      ]
     },
     "execution_count": 6,
     "metadata": {},
     "output_type": "execute_result"
    }
   ],
   "source": [
    "wheel.GetPosition(wheel.IDs[0])"
   ]
  },
  {
   "cell_type": "code",
   "execution_count": 7,
   "id": "444f60c5-c781-4cc4-a0b8-345b71b40e50",
   "metadata": {
    "ExecuteTime": {
     "end_time": "2022-03-29T09:26:43.718954Z",
     "start_time": "2022-03-29T09:26:42.138291Z"
    }
   },
   "outputs": [],
   "source": [
    "wheel.SetPosition(wheel.IDs[0], 1)"
   ]
  },
  {
   "cell_type": "markdown",
   "id": "ec60961c",
   "metadata": {},
   "source": [
    "In most cases, only one wheel is used. Then, the SingleMiniEFW class can be used."
   ]
  },
  {
   "cell_type": "code",
   "execution_count": 2,
   "id": "f3de227e-74cb-4a1f-8d19-8142456f141f",
   "metadata": {
    "ExecuteTime": {
     "end_time": "2022-03-29T09:28:09.788420Z",
     "start_time": "2022-03-29T09:28:09.272636Z"
    }
   },
   "outputs": [],
   "source": [
    "MiniWheel =  SingleMiniEFW('EFW_filter.dll')"
   ]
  },
  {
   "cell_type": "markdown",
   "id": "a09229dc",
   "metadata": {},
   "source": [
    "In this class, the colors of the filters have been hard-coded so that you can specify the color of the filter instead of its position.  \n",
    "This class has been designed for a 5 positions wheel with the filters in the following order: "
   ]
  },
  {
   "cell_type": "code",
   "execution_count": 3,
   "id": "0ce89392",
   "metadata": {
    "ExecuteTime": {
     "end_time": "2022-03-29T09:28:11.296244Z",
     "start_time": "2022-03-29T09:28:11.272244Z"
    }
   },
   "outputs": [
    {
     "data": {
      "text/plain": [
       "{'empty': 0, 'R': 1, 'G': 2, 'B': 3, 'L': 4}"
      ]
     },
     "execution_count": 3,
     "metadata": {},
     "output_type": "execute_result"
    }
   ],
   "source": [
    "MiniWheel.FiltersSlots"
   ]
  },
  {
   "cell_type": "code",
   "execution_count": 4,
   "id": "2b64a42e",
   "metadata": {
    "ExecuteTime": {
     "end_time": "2022-03-29T09:28:12.467359Z",
     "start_time": "2022-03-29T09:28:12.445419Z"
    }
   },
   "outputs": [
    {
     "data": {
      "text/plain": [
       "{0: 'empty', 1: 'R', 2: 'G', 3: 'B', 4: 'L'}"
      ]
     },
     "execution_count": 4,
     "metadata": {},
     "output_type": "execute_result"
    }
   ],
   "source": [
    "MiniWheel.FiltersNames"
   ]
  },
  {
   "cell_type": "code",
   "execution_count": 5,
   "id": "87d46103",
   "metadata": {
    "ExecuteTime": {
     "end_time": "2022-03-29T09:28:15.273492Z",
     "start_time": "2022-03-29T09:28:13.695838Z"
    }
   },
   "outputs": [],
   "source": [
    "MiniWheel.SetColor('R')"
   ]
  },
  {
   "cell_type": "code",
   "execution_count": 6,
   "id": "4dd4a2c3",
   "metadata": {
    "ExecuteTime": {
     "end_time": "2022-03-29T09:28:17.935360Z",
     "start_time": "2022-03-29T09:28:16.366589Z"
    }
   },
   "outputs": [],
   "source": [
    "MiniWheel.SetColor('G')"
   ]
  },
  {
   "cell_type": "code",
   "execution_count": 7,
   "id": "f5cdc033",
   "metadata": {
    "ExecuteTime": {
     "end_time": "2022-03-29T09:28:19.646109Z",
     "start_time": "2022-03-29T09:28:18.071248Z"
    }
   },
   "outputs": [],
   "source": [
    "MiniWheel.SetColor('B')"
   ]
  },
  {
   "cell_type": "code",
   "execution_count": 8,
   "id": "b324edff",
   "metadata": {
    "ExecuteTime": {
     "end_time": "2022-03-29T09:28:22.408920Z",
     "start_time": "2022-03-29T09:28:19.885415Z"
    }
   },
   "outputs": [],
   "source": [
    "MiniWheel.SetColor('empty')"
   ]
  },
  {
   "cell_type": "markdown",
   "id": "d63499d4-da8d-46b9-bf03-45fae2d84c98",
   "metadata": {},
   "source": [
    "# EFW app"
   ]
  },
  {
   "cell_type": "code",
   "execution_count": 11,
   "id": "56483149-f4e2-4397-90f3-49d0e5d0633e",
   "metadata": {
    "ExecuteTime": {
     "end_time": "2022-03-29T09:31:09.827150Z",
     "start_time": "2022-03-29T09:31:09.811120Z"
    }
   },
   "outputs": [],
   "source": [
    "from PyZWOEFW.PyQt_App import ZwoEFW"
   ]
  },
  {
   "cell_type": "code",
   "execution_count": 12,
   "id": "60ff8fa5-d974-40e1-99dd-0de3b1fe1bd9",
   "metadata": {
    "ExecuteTime": {
     "end_time": "2022-03-29T09:31:35.135426Z",
     "start_time": "2022-03-29T09:31:14.306734Z"
    }
   },
   "outputs": [],
   "source": [
    "ZwoEFW('EFW_filter.dll')"
   ]
  },
  {
   "cell_type": "code",
   "execution_count": null,
   "id": "1012eb03-a243-436e-914f-1c61fe945d9b",
   "metadata": {},
   "outputs": [],
   "source": []
  }
 ],
 "metadata": {
  "hide_input": false,
  "kernelspec": {
   "display_name": "Python 3",
   "language": "python",
   "name": "python3"
  },
  "language_info": {
   "codemirror_mode": {
    "name": "ipython",
    "version": 3
   },
   "file_extension": ".py",
   "mimetype": "text/x-python",
   "name": "python",
   "nbconvert_exporter": "python",
   "pygments_lexer": "ipython3",
   "version": "3.7.12"
  },
  "latex_envs": {
   "LaTeX_envs_menu_present": true,
   "autoclose": false,
   "autocomplete": true,
   "bibliofile": "biblio.bib",
   "cite_by": "apalike",
   "current_citInitial": 1,
   "eqLabelWithNumbers": true,
   "eqNumInitial": 1,
   "hotkeys": {
    "equation": "Ctrl-E",
    "itemize": "Ctrl-I"
   },
   "labels_anchors": false,
   "latex_user_defs": false,
   "report_style_numbering": false,
   "user_envs_cfg": false
  },
  "toc": {
   "base_numbering": 1,
   "nav_menu": {},
   "number_sections": true,
   "sideBar": true,
   "skip_h1_title": false,
   "title_cell": "Table of Contents",
   "title_sidebar": "Contents",
   "toc_cell": false,
   "toc_position": {},
   "toc_section_display": true,
   "toc_window_display": false
  }
 },
 "nbformat": 4,
 "nbformat_minor": 5
}
